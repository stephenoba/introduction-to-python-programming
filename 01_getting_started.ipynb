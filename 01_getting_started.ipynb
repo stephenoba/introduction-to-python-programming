{
 "cells": [
  {
   "cell_type": "markdown",
   "metadata": {
    "id": "6ou_EyvyN3o6"
   },
   "source": [
    "# Introduction and Getting Set up"
   ]
  },
  {
   "cell_type": "markdown",
   "metadata": {
    "id": "N_eRnWRlWCsc"
   },
   "source": [
    "The idea behind this course is to be biginner friendly, while taking you through key concepts and application of python. Along the line you get to do fun, creative and challenging short exercises and projects to help put the concepts you have learnt to use. "
   ]
  },
  {
   "cell_type": "markdown",
   "metadata": {
    "id": "iiada8EMWp2n"
   },
   "source": [
    "To get started, we need to first set up our developer environment. "
   ]
  },
  {
   "cell_type": "markdown",
   "metadata": {
    "id": "9JxufOiXeFYG"
   },
   "source": [
    "## Installing Python"
   ]
  },
  {
   "cell_type": "markdown",
   "metadata": {
    "id": "im3zMNMOeRs5"
   },
   "source": [
    "Before we get started with anything, we must first get python set up on our local machine. So let's get to that.\n",
    "\n",
    "Head over to [python.org](https://www.python.org/downloads/) to download the latest version of python. To get a step by step guide, head over to the guys at [Real Python](https://realpython.com/installing-python/)."
   ]
  },
  {
   "cell_type": "markdown",
   "metadata": {
    "id": "bDqOCSXUd4dk"
   },
   "source": [
    "## Installing a Python Development Environment"
   ]
  },
  {
   "cell_type": "markdown",
   "metadata": {
    "id": "XNdE-RqGW9Vb"
   },
   "source": [
    "There are a variety of options when it comes to an IDE you could use to follow up with this course. \n",
    "\n",
    "\n",
    "*   Google Colab or Jupyter Notebook (like the one used for this course) which are web-based IDE and are great for data scientists. you can get these at https://colab.research.google.com and  https://jupyter.org respectively.\n",
    "*   **PyCharm** an IDE created for python programmers is provided by JetBrains who make tools for a variety of different languages. You can download this from https://www.jetbrains.com/pycharm/.\n",
    "*   **Visual Studio Code** is also a very good free editor from Microsoft that has great features and handy extensions. You can get this at https://code.visualstudio.com.\n",
    "*   Another option could be **Sublime Text** which is basically a text editor with color codes and can be useful for small scripts and python codes. Get it from https://www.sublimetext.com.\n",
    "\n",
    "*My sugestion although, would be to go for pycharm. A step by step instruction on how to install can be found at https://www.jetbrains.com/help/pycharm/run-for-the-first-time.html*"
   ]
  },
  {
   "cell_type": "code",
   "execution_count": null,
   "metadata": {
    "id": "SC9hU4_fx-R1"
   },
   "outputs": [],
   "source": []
  }
 ],
 "metadata": {
  "colab": {
   "name": "getting-setup.ipynb",
   "provenance": []
  },
  "kernelspec": {
   "display_name": "Python 3",
   "language": "python",
   "name": "python3"
  },
  "language_info": {
   "codemirror_mode": {
    "name": "ipython",
    "version": 3
   },
   "file_extension": ".py",
   "mimetype": "text/x-python",
   "name": "python",
   "nbconvert_exporter": "python",
   "pygments_lexer": "ipython3",
   "version": "3.6.9"
  }
 },
 "nbformat": 4,
 "nbformat_minor": 1
}
