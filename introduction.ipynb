{
 "cells": [
  {
   "cell_type": "markdown",
   "metadata": {
    "id": "yF7lIVwC538C"
   },
   "source": [
    "# Quick Introduction to Python"
   ]
  },
  {
   "cell_type": "markdown",
   "metadata": {
    "id": "bguSV7M15_e0"
   },
   "source": [
    "### What is Python?"
   ]
  },
  {
   "cell_type": "markdown",
   "metadata": {
    "id": "7t-V5dms6H3_"
   },
   "source": [
    "Simply put by wikipedia, Python is an interpreted high-level general-purpose programming language."
   ]
  },
  {
   "cell_type": "markdown",
   "metadata": {
    "id": "0k2VsUJ778Zm"
   },
   "source": [
    "Guido van Rossum started working on it in the 1980s and was first released in 1991. The language is named after one of Guido's favorite TV programs “Monty Pythons Flying Circus”. You will even find various references to this show in the official Python documentation"
   ]
  },
  {
   "cell_type": "markdown",
   "metadata": {
    "id": "bD12wQyn8XWV"
   },
   "source": [
    "Python has become popular for the following factors;\n",
    "\n",
    "1. Its flexibility and simplicity which makes it easy to learn.\n",
    "2. Its use by the Data Science community where it provides a more standard\n",
    "programming language than some rivals such as R.\n",
    "3. Its suitability as a scripting language for those working in the DevOps field\n",
    "where it provides a higher level of abstraction than alternative languages tra-\n",
    "ditionally used.\n",
    "4. Its ability to run on (almost) any operating system, but particularly the big three\n",
    "operating systems Windows, MacOS and Linux.\n",
    "5. The availability of a wide range of libraries (modules) that can be used to extend\n",
    "the basic features of the language.\n",
    "6. It is free!"
   ]
  },
  {
   "cell_type": "markdown",
   "metadata": {
    "id": "x3_kqUP297fr"
   },
   "source": []
  }
 ],
 "metadata": {
  "colab": {
   "name": "Untitled3.ipynb",
   "provenance": []
  },
  "kernelspec": {
   "display_name": "Python 3",
   "language": "python",
   "name": "python3"
  },
  "language_info": {
   "codemirror_mode": {
    "name": "ipython",
    "version": 3
   },
   "file_extension": ".py",
   "mimetype": "text/x-python",
   "name": "python",
   "nbconvert_exporter": "python",
   "pygments_lexer": "ipython3",
   "version": "3.6.9"
  }
 },
 "nbformat": 4,
 "nbformat_minor": 1
}
