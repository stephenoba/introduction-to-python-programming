{
 "cells": [
  {
   "cell_type": "markdown",
   "id": "cc310251",
   "metadata": {},
   "source": [
    "# Strings"
   ]
  },
  {
   "cell_type": "markdown",
   "id": "a50e370d",
   "metadata": {},
   "source": [
    "String is a collection of alphabets, words or other characters. It is one of the primitive data structures and are the building blocks for data manipulation. character is anything you can type on the keyboard in one keystroke, such as a letter `'a'`, `'b'`, `'c'` or a number `'1'`, `'2'`, `'3'` or a special characters such as `'-'`, `'['`,`'$'` etc. a space is also a character ' ',"
   ]
  },
  {
   "cell_type": "markdown",
   "id": "cb3ac61d",
   "metadata": {},
   "source": [
    "String are *immutable*, when we say immutable this simply means that once a string has been created it cannot be changed. If you attempt to make any changes to a string you would be basically be creating a new string."
   ]
  },
  {
   "cell_type": "markdown",
   "id": "c00a52d3",
   "metadata": {},
   "source": [
    "In defining a string we start and end with a single or double quotes. These are valid examples of strings"
   ]
  },
  {
   "cell_type": "code",
   "execution_count": 1,
   "id": "c586c4bd",
   "metadata": {},
   "outputs": [
    {
     "data": {
      "text/plain": [
       "'It is awesome'"
      ]
     },
     "execution_count": 1,
     "metadata": {},
     "output_type": "execute_result"
    }
   ],
   "source": [
    "\"Hey\"\n",
    "\"How are you?\"\n",
    "'I am learning Python programming!'\n",
    "'It is awesome'"
   ]
  },
  {
   "cell_type": "markdown",
   "id": "e8514f5e",
   "metadata": {},
   "source": [
    "IIts is also valid to define an empty string like `message = ''`"
   ]
  },
  {
   "cell_type": "markdown",
   "id": "87813ee7",
   "metadata": {},
   "source": [
    "The ability to use both '' and ' however, comes in useful if your string needs to contain one of the other type of string delimiters. This is because a single quote can be embedded in a string defined using double quotes and vice versa, thus we can write the following:"
   ]
  },
  {
   "cell_type": "code",
   "execution_count": 2,
   "id": "2e56b8e5",
   "metadata": {},
   "outputs": [
    {
     "name": "stdout",
     "output_type": "stream",
     "text": [
      "It's a rainny day\n",
      "she said \"Hello\" to everyone\n"
     ]
    }
   ],
   "source": [
    "print(\"It's a rainny day\")\n",
    "print('she said \"Hello\" to everyone')"
   ]
  },
  {
   "cell_type": "markdown",
   "id": "47d2b6bb",
   "metadata": {},
   "source": [
    "If this was not the case we would get an error message when we try to do something like this `print('it's a rainny day')` because python identifies the first quote as the start of the string and searches for the next identical quote to signify the end of the string."
   ]
  },
  {
   "cell_type": "markdown",
   "id": "c68d7c88",
   "metadata": {},
   "source": [
    "Another way a string can be defined is by the use of tripple quotes (either tripple single quotes or tripple double quotes). This method of defining strings supports multi line strings. Let's see an example"
   ]
  },
  {
   "cell_type": "code",
   "execution_count": 5,
   "id": "f86464d3",
   "metadata": {},
   "outputs": [
    {
     "name": "stdout",
     "output_type": "stream",
     "text": [
      "This is a string with trippple quotes\n",
      "\n",
      "\n",
      "This is a string\n",
      "with tripple\n",
      "quotes\n"
     ]
    }
   ],
   "source": [
    "print('''This is a string with trippple quotes''')\n",
    "print(\"\\n\")\n",
    "print('''This is a string\n",
    "with tripple\n",
    "quotes''')"
   ]
  },
  {
   "cell_type": "markdown",
   "id": "21b51042",
   "metadata": {},
   "source": [
    "Strings in python are objects (ie it is a class) and are of a certain type. To confirm this, we can utilize a useful function `type()`."
   ]
  },
  {
   "cell_type": "code",
   "execution_count": 2,
   "id": "c96d58aa",
   "metadata": {},
   "outputs": [
    {
     "name": "stdout",
     "output_type": "stream",
     "text": [
      "<class 'str'>\n"
     ]
    }
   ],
   "source": [
    "my_variable = \"Hello World!!\"\n",
    "print(type(my_variable))"
   ]
  },
  {
   "cell_type": "markdown",
   "id": "23c15925",
   "metadata": {},
   "source": [
    "### What are some things we can do with strings?"
   ]
  },
  {
   "cell_type": "markdown",
   "id": "994ff0c1",
   "metadata": {},
   "source": [
    "#### String Concatenation"
   ]
  },
  {
   "cell_type": "markdown",
   "id": "d35df863",
   "metadata": {},
   "source": [
    "You can concatenate two strings together using the '+' operator. That is you can take one string and add it to another string to create a new third string:"
   ]
  },
  {
   "cell_type": "code",
   "execution_count": 4,
   "id": "fcafb2bc",
   "metadata": {},
   "outputs": [
    {
     "name": "stdout",
     "output_type": "stream",
     "text": [
      "Hello World!!\n"
     ]
    }
   ],
   "source": [
    "string1 = \"Hello \"\n",
    "string2 = \"World!!\"\n",
    "new_string = string1 + string2\n",
    "print(new_string)"
   ]
  },
  {
   "cell_type": "markdown",
   "id": "ce63ff1d",
   "metadata": {},
   "source": [
    "#### Lenght of a String"
   ]
  },
  {
   "cell_type": "markdown",
   "id": "9692ca1f",
   "metadata": {},
   "source": [
    "It can sometimes be useful to know how long a string is, for example if you are putting a string into a user interface you might need to know how much of the string will be displayed within a field. To find out the length of a string in Python you use the `len()` function, for example:"
   ]
  },
  {
   "cell_type": "code",
   "execution_count": 5,
   "id": "a7c84c79",
   "metadata": {},
   "outputs": [
    {
     "name": "stdout",
     "output_type": "stream",
     "text": [
      "13\n"
     ]
    }
   ],
   "source": [
    "print(len(new_string))"
   ]
  },
  {
   "cell_type": "markdown",
   "id": "626489bc",
   "metadata": {},
   "source": [
    "#### Accessing a Character"
   ]
  },
  {
   "cell_type": "markdown",
   "id": "021fbb8b",
   "metadata": {},
   "source": [
    "Since strings are fixed sequence of characters, it is possible to retrieve a specific character from within the string. This is something wwe call indexing. For example:"
   ]
  },
  {
   "cell_type": "code",
   "execution_count": 6,
   "id": "1e57d710",
   "metadata": {},
   "outputs": [
    {
     "data": {
      "text/plain": [
       "'H'"
      ]
     },
     "execution_count": 6,
     "metadata": {},
     "output_type": "execute_result"
    }
   ],
   "source": [
    "new_string[0]"
   ]
  },
  {
   "cell_type": "markdown",
   "id": "7490c9e0",
   "metadata": {},
   "source": [
    "In programming it is common to start counting from zero this is what we call *Zero Indexing*, thus our string `new_string` has its first character `H` at an index of zero. Therefore to access it we used the syntax `new_string[0]`. If we were to retrieve the 4th character, we would our statement would then be `new_string[3]`."
   ]
  },
  {
   "cell_type": "markdown",
   "id": "b6c8df1d",
   "metadata": {},
   "source": [
    "#### Accessing a Subset of Characters"
   ]
  },
  {
   "cell_type": "markdown",
   "id": "40b31cab",
   "metadata": {},
   "source": [
    "It is also possible to obtain a subset of the original string, often referred to as a substring (of the original string). This can again be done using the square brackets notation but using a ':' to indicate the start and end points of the sub string. If one of the positions is omitted then the start or end of the string is assumed (depending upon the omission), for example"
   ]
  },
  {
   "cell_type": "code",
   "execution_count": 8,
   "id": "8186f610",
   "metadata": {},
   "outputs": [
    {
     "name": "stdout",
     "output_type": "stream",
     "text": [
      "o\n",
      "ello\n",
      "Hello\n",
      "llo World!!\n"
     ]
    }
   ],
   "source": [
    "print(new_string[4])# characters at position 4, i.e the fifth character\n",
    "print(new_string[1:5]) # from position 1 to 5\n",
    "print(new_string[:5]) # from start to position 5\n",
    "print(new_string[2:]) # from position 2 to the end"
   ]
  },
  {
   "cell_type": "markdown",
   "id": "0879a97d",
   "metadata": {},
   "source": [
    "*Note again that strings are immutable, and as such no manipulation to the string can cause it to change. so if we want to keep our output we would need to store them in a new variable.*"
   ]
  },
  {
   "cell_type": "markdown",
   "id": "84bbb46e",
   "metadata": {},
   "source": [
    "#### Repeating Strings"
   ]
  },
  {
   "cell_type": "markdown",
   "id": "f25b43c1",
   "metadata": {},
   "source": [
    "We can also use the '*' operator with strings. In the case of strings this means repeat the given string a certain number of times. This generates a new string containing the original string repeated n number of times. For example:"
   ]
  },
  {
   "cell_type": "code",
   "execution_count": 9,
   "id": "b447fd89",
   "metadata": {},
   "outputs": [
    {
     "name": "stdout",
     "output_type": "stream",
     "text": [
      "Hi Hi Hi Hi Hi Hi Hi Hi Hi Hi \n"
     ]
    }
   ],
   "source": [
    "print(\"Hi \" * 10)"
   ]
  },
  {
   "cell_type": "markdown",
   "id": "7a38ce04",
   "metadata": {},
   "source": [
    "#### Splitting Strings"
   ]
  },
  {
   "cell_type": "markdown",
   "id": "d45acb13",
   "metadata": {},
   "source": [
    "A very common requirement is the need to split a string up into multiple separate strings based on a specific character such as a space or a comma. This can be done with the split() function, that takes a string to used in identifying how to split up the receiving string. For example:"
   ]
  },
  {
   "cell_type": "code",
   "execution_count": 11,
   "id": "0840f3bb",
   "metadata": {},
   "outputs": [
    {
     "name": "stdout",
     "output_type": "stream",
     "text": [
      "Source string: The Good, The Bad, and the Ugly\n",
      "Split using a space\n",
      "['The', 'Good,', 'The', 'Bad,', 'and', 'the', 'Ugly']\n",
      "Split using a comma\n",
      "['The Good', ' The Bad', ' and the Ugly']\n"
     ]
    }
   ],
   "source": [
    "title = 'The Good, The Bad, and the Ugly'\n",
    "print('Source string:', title)\n",
    "print('Split using a space')\n",
    "print(title.split(' '))\n",
    "print('Split using a comma')\n",
    "print(title.split(','))"
   ]
  },
  {
   "cell_type": "markdown",
   "id": "c04c5fd1",
   "metadata": {},
   "source": [
    "You may have noticed something odd about the way in which we wrote the call to the split operation. We did not pass the string into split() rather we used the format of the variable containing the string followed by '.' and then split()"
   ]
  },
  {
   "cell_type": "markdown",
   "id": "0956117b",
   "metadata": {},
   "source": [
    "This is because split() is actually what is referred to as a method. We will return to this concept more when we explore classes and objects. For the moment merely remember that methods are applied to things like string using the dot notation."
   ]
  },
  {
   "cell_type": "markdown",
   "id": "c8fa010e",
   "metadata": {},
   "source": [
    "#### Counting Strings"
   ]
  },
  {
   "cell_type": "markdown",
   "id": "5dbb1e16",
   "metadata": {},
   "source": [
    "It is possible to find out how many times a string is repeated in another string. This is done using the count() operation for example"
   ]
  },
  {
   "cell_type": "code",
   "execution_count": 12,
   "id": "3afeb39f",
   "metadata": {},
   "outputs": [
    {
     "name": "stdout",
     "output_type": "stream",
     "text": [
      "my_string.count(' '): 8\n"
     ]
    }
   ],
   "source": [
    "my_string = 'Count, the number     of spaces'\n",
    "print(\"my_string.count(' '):\", my_string.count(' '))"
   ]
  },
  {
   "cell_type": "markdown",
   "id": "ec458eea",
   "metadata": {},
   "source": [
    "This indicates that the number of spaces in `my_variable` is 8"
   ]
  },
  {
   "cell_type": "markdown",
   "id": "89af0917",
   "metadata": {},
   "source": [
    "#### Replacing Strings"
   ]
  },
  {
   "cell_type": "markdown",
   "id": "80ba18ce",
   "metadata": {},
   "source": [
    "One string can replace a substring in another string. This is done using the replace() method on a string. For example:"
   ]
  },
  {
   "cell_type": "code",
   "execution_count": 13,
   "id": "165c1ccb",
   "metadata": {},
   "outputs": [
    {
     "name": "stdout",
     "output_type": "stream",
     "text": [
      "Goodbye World!\n"
     ]
    }
   ],
   "source": [
    "welcome_message = 'Hello World!'\n",
    "print(welcome_message.replace(\"Hello\", \"Goodbye\"))"
   ]
  },
  {
   "cell_type": "markdown",
   "id": "a5a28dd0",
   "metadata": {},
   "source": [
    "#### Finding Sub Strings"
   ]
  },
  {
   "cell_type": "markdown",
   "id": "2498a9a8",
   "metadata": {},
   "source": [
    "You can find out if one string is a substring of another string using the `find()` method. This method takes a second string as a parameter and checks to see if that string is in the string receiving the `find()` method, for example:"
   ]
  },
  {
   "cell_type": "code",
   "execution_count": 14,
   "id": "b92279bf",
   "metadata": {},
   "outputs": [
    {
     "name": "stdout",
     "output_type": "stream",
     "text": [
      "7\n"
     ]
    }
   ],
   "source": [
    "print('Edward Alun Rawlings'.find('Alun'))"
   ]
  },
  {
   "cell_type": "markdown",
   "id": "cc115292",
   "metadata": {},
   "source": [
    "The method returns −1 if the string is not present. Otherwise it returns an index indicating the start of the substring"
   ]
  },
  {
   "cell_type": "markdown",
   "id": "19944ee7",
   "metadata": {},
   "source": [
    "#### Converting Other Types into Strings"
   ]
  },
  {
   "cell_type": "markdown",
   "id": "db6092fd",
   "metadata": {},
   "source": [
    "If you try to use the '+' concatenation operator with a string and some other type such as a number then you will get an error. For example if you try the following:"
   ]
  },
  {
   "cell_type": "code",
   "execution_count": 15,
   "id": "41c21371",
   "metadata": {},
   "outputs": [
    {
     "ename": "TypeError",
     "evalue": "must be str, not int",
     "output_type": "error",
     "traceback": [
      "\u001b[0;31m---------------------------------------------------------------------------\u001b[0m",
      "\u001b[0;31mTypeError\u001b[0m                                 Traceback (most recent call last)",
      "\u001b[0;32m<ipython-input-15-69121e8e5e5e>\u001b[0m in \u001b[0;36m<module>\u001b[0;34m\u001b[0m\n\u001b[0;32m----> 1\u001b[0;31m \u001b[0mmsg\u001b[0m \u001b[0;34m=\u001b[0m \u001b[0;34m'Hello Lloyd you are '\u001b[0m \u001b[0;34m+\u001b[0m \u001b[0;36m21\u001b[0m\u001b[0;34m\u001b[0m\u001b[0;34m\u001b[0m\u001b[0m\n\u001b[0m\u001b[1;32m      2\u001b[0m \u001b[0mprint\u001b[0m\u001b[0;34m(\u001b[0m\u001b[0mmsg\u001b[0m\u001b[0;34m)\u001b[0m\u001b[0;34m\u001b[0m\u001b[0;34m\u001b[0m\u001b[0m\n",
      "\u001b[0;31mTypeError\u001b[0m: must be str, not int"
     ]
    }
   ],
   "source": [
    "msg = 'Hello Lloyd you are ' + 21\n",
    "print(msg)"
   ]
  },
  {
   "cell_type": "markdown",
   "id": "a3078f17",
   "metadata": {},
   "source": [
    "You will get an error message indicating that you can only concatenate strings with strings not integers with strings. To concatenate a number such as 21 with a string you must convert it to a string. This can be done using the `str()` function. This contest any type into a string representation of that type. For example:You will get an error message indicating that you can only concatenate strings with strings not integers with strings. To concatenate a number such as 21 with a string you must convert it to a string. This can be done using the `str()` function. This contest any type into a string representation of that type. For example:"
   ]
  },
  {
   "cell_type": "code",
   "execution_count": 16,
   "id": "d0132cac",
   "metadata": {},
   "outputs": [
    {
     "name": "stdout",
     "output_type": "stream",
     "text": [
      "Hello Lloyd you are 21\n"
     ]
    }
   ],
   "source": [
    "msg = 'Hello Lloyd you are ' + str(21)\n",
    "print(msg)"
   ]
  },
  {
   "cell_type": "markdown",
   "id": "5cbb5b33",
   "metadata": {},
   "source": [
    "#### Comparing Strings"
   ]
  },
  {
   "cell_type": "markdown",
   "id": "79be5234",
   "metadata": {},
   "source": [
    "To compare one string with another you can use the '==' equality and '!=' not equals operators. These will compare two strings and return either True or False indicating whether the strings are equal or not."
   ]
  },
  {
   "cell_type": "code",
   "execution_count": 17,
   "id": "01f2af39",
   "metadata": {},
   "outputs": [
    {
     "name": "stdout",
     "output_type": "stream",
     "text": [
      "True\n",
      "False\n",
      "True\n"
     ]
    }
   ],
   "source": [
    "print('James' == 'James') # prints True\n",
    "print('James' == 'John') # prints False\n",
    "print('James' != 'John') # prints True"
   ]
  },
  {
   "cell_type": "markdown",
   "id": "a3081b98",
   "metadata": {},
   "source": [
    "You should note that strings in Python are case sensitive thus the string 'James' does not equal the string 'james'."
   ]
  },
  {
   "cell_type": "code",
   "execution_count": 18,
   "id": "a56ef16c",
   "metadata": {},
   "outputs": [
    {
     "name": "stdout",
     "output_type": "stream",
     "text": [
      "False\n"
     ]
    }
   ],
   "source": [
    "print('James' == 'james') # prints False"
   ]
  },
  {
   "cell_type": "markdown",
   "id": "f25d6908",
   "metadata": {},
   "source": [
    "#### Other String Operations"
   ]
  },
  {
   "cell_type": "markdown",
   "id": "c7da0d85",
   "metadata": {},
   "source": [
    "There are in fact very many different operations available for strings, including checking that a string starts or ends with another string, that is it upper or lower case etc. It is also possible to replace part of a string with another string, convert strings to upper, lower or title case etc."
   ]
  },
  {
   "cell_type": "markdown",
   "id": "bfe75cb4",
   "metadata": {},
   "source": [
    "Examples of these are given below (note all of these operations use the dot notation):"
   ]
  },
  {
   "cell_type": "code",
   "execution_count": 20,
   "id": "ad6ca071",
   "metadata": {},
   "outputs": [
    {
     "name": "stdout",
     "output_type": "stream",
     "text": [
      "Testing a String\n",
      "--------------------\n",
      "some_string Hello World\n",
      "some_string.startswith('H') True\n",
      "some_string.startswith('h') False\n",
      "some_string.endswith('d') True\n",
      "some_string.istitle() True\n",
      "some_string.isupper() False\n",
      "some_string.islower() False\n",
      "some_string.isalpha() False\n",
      "String conversions\n",
      "--------------------\n",
      "some_string.upper() HELLO WORLD\n",
      "some_string.lower() hello world\n",
      "some_string.title() Hello World\n",
      "some_string.swapcase() hELLO wORLD\n",
      "String leading, trailing spaces xyz\n"
     ]
    }
   ],
   "source": [
    "some_string = 'Hello World'\n",
    "print('Testing a String')\n",
    "print('-' * 20)\n",
    "print('some_string', some_string)\n",
    "print(\"some_string.startswith('H')\",\n",
    "some_string.startswith('H'))\n",
    "print(\"some_string.startswith('h')\",\n",
    "some_string.startswith('h'))\n",
    "print(\"some_string.endswith('d')\", some_string.endswith('d'))\n",
    "print('some_string.istitle()', some_string.istitle())\n",
    "print('some_string.isupper()', some_string.isupper())\n",
    "print('some_string.islower()', some_string.islower())\n",
    "print('some_string.isalpha()', some_string.isalpha())\n",
    "print('String conversions')\n",
    "print('-' * 20)\n",
    "print('some_string.upper()', some_string.upper())\n",
    "print('some_string.lower()', some_string.lower())\n",
    "print('some_string.title()', some_string.title())\n",
    "print('some_string.swapcase()', some_string.swapcase())\n",
    "print('String leading, trailing spaces', \"xyz\".strip())"
   ]
  },
  {
   "cell_type": "markdown",
   "id": "0213f528",
   "metadata": {},
   "source": [
    "### Hints on Strings"
   ]
  },
  {
   "cell_type": "markdown",
   "id": "6bdfd674",
   "metadata": {},
   "source": [
    "#### Python Strings are Case Sensitive"
   ]
  },
  {
   "cell_type": "markdown",
   "id": "686a329d",
   "metadata": {},
   "source": [
    "In Python the string 'l' is not the same as the string 'L'; one contains the lower-case letter 'l' and one the upper-case letter 'L'. If case sensitively does not matter to you then you should convert any strings you want to compare into a common case before doing any testing; for example using lower() as in"
   ]
  },
  {
   "cell_type": "code",
   "execution_count": 21,
   "id": "4bcf36e8",
   "metadata": {},
   "outputs": [
    {
     "data": {
      "text/plain": [
       "True"
      ]
     },
     "execution_count": 21,
     "metadata": {},
     "output_type": "execute_result"
    }
   ],
   "source": [
    "some_string.lower().startswith('h')"
   ]
  },
  {
   "cell_type": "markdown",
   "id": "a793dd66",
   "metadata": {},
   "source": [
    "#### Function/Method Names"
   ]
  },
  {
   "cell_type": "markdown",
   "id": "8571364b",
   "metadata": {},
   "source": [
    "Be very careful with capitalisation of function/method names; in Python\n",
    "isupper() is a completely different operation to isUpper(). If you use the wrong case Python will not be able to find the required function or method and will generate an error message"
   ]
  },
  {
   "cell_type": "markdown",
   "id": "ae6c1d76",
   "metadata": {},
   "source": [
    "#### Function/Method Invocations"
   ]
  },
  {
   "cell_type": "markdown",
   "id": "b154d225",
   "metadata": {},
   "source": [
    "Also be careful of always including the round brackets when you call a function or method; even if it takes no parameters/arguments. There is a significant difference between isupper and isupper(). The first one is the name of an operation on a string while the second is a call to that operation so that the operation executes. Both formats are legal Python but the result is very different, for example:"
   ]
  },
  {
   "cell_type": "code",
   "execution_count": 22,
   "id": "b1e73935",
   "metadata": {},
   "outputs": [
    {
     "name": "stdout",
     "output_type": "stream",
     "text": [
      "<built-in method isupper of str object at 0x7f1635d3aaf0>\n",
      "False\n"
     ]
    }
   ],
   "source": [
    "print(some_string.isupper)\n",
    "print(some_string.isupper())"
   ]
  },
  {
   "cell_type": "markdown",
   "id": "9754d279",
   "metadata": {},
   "source": [
    "Notice that the first print out tells you that you are referring to the built-in method called isupper defined on the type String; while the second actually runs isupper() for you and returns either True or False"
   ]
  },
  {
   "cell_type": "markdown",
   "id": "2fcca8f2",
   "metadata": {},
   "source": [
    "### String Formatting"
   ]
  },
  {
   "cell_type": "code",
   "execution_count": null,
   "id": "287ead92",
   "metadata": {},
   "outputs": [],
   "source": []
  }
 ],
 "metadata": {
  "kernelspec": {
   "display_name": "Python 3",
   "language": "python",
   "name": "python3"
  },
  "language_info": {
   "codemirror_mode": {
    "name": "ipython",
    "version": 3
   },
   "file_extension": ".py",
   "mimetype": "text/x-python",
   "name": "python",
   "nbconvert_exporter": "python",
   "pygments_lexer": "ipython3",
   "version": "3.6.9"
  }
 },
 "nbformat": 4,
 "nbformat_minor": 5
}
